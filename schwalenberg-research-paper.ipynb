{
 "cells": [
  {
   "cell_type": "markdown",
   "metadata": {},
   "source": [
    "# War on Their Minds: A Comparison of the Concepts \"Democratization\" and \"War\" in Chinese Newspapers, 1914-1949"
   ]
  },
  {
   "cell_type": "markdown",
   "metadata": {},
   "source": [
    "## Introduction"
   ]
  },
  {
   "cell_type": "markdown",
   "metadata": {},
   "source": [
    "lorem ipsum"
   ]
  },
  {
   "cell_type": "markdown",
   "metadata": {},
   "source": [
    "## Methodology"
   ]
  },
  {
   "cell_type": "markdown",
   "metadata": {},
   "source": [
    "lorem ipsum"
   ]
  },
  {
   "cell_type": "markdown",
   "metadata": {},
   "source": [
    "![Fig. 1: The Late Qing and Republican-Era Chinese Newspapers Database](https://github.com/wschwal1/dh-term-paper/blob/main/pictures/lqrcn1.png?raw=true) *Fig. 1: The Late Qing and Republican-Era Chinese Newspapers Database*"
   ]
  },
  {
   "cell_type": "markdown",
   "metadata": {},
   "source": [
    "lorem ipsum BEIJING + Nanjing"
   ]
  },
  {
   "cell_type": "code",
   "execution_count": 5,
   "metadata": {},
   "outputs": [
    {
     "data": {
      "text/html": [
       "\n",
       "<iframe src=\"https://github.com/wschwal1/dh-term-paper/blob/9c670b426644e3aa7988da1b2994b518e45c76f0/schwalenberg-r-leaflet2.rmd\" width=\"100%\" height=\"500\"></iframe>\n"
      ],
      "text/plain": [
       "<IPython.core.display.HTML object>"
      ]
     },
     "metadata": {},
     "output_type": "display_data"
    }
   ],
   "source": [
    "from IPython.display import HTML\n",
    "\n",
    "html_content = \"\"\"\n",
    "<iframe src=\"https://github.com/wschwal1/dh-term-paper/blob/9c670b426644e3aa7988da1b2994b518e45c76f0/schwalenberg-r-leaflet2.rmd\" width=\"100%\" height=\"500\"></iframe>\n",
    "\"\"\"\n",
    "\n",
    "display(HTML(html_content))\n"
   ]
  },
  {
   "cell_type": "markdown",
   "metadata": {},
   "source": [
    "lorem ipsum"
   ]
  },
  {
   "cell_type": "markdown",
   "metadata": {},
   "source": [
    "![Fig. 2: Website of a single front page of the newspaper Jian she ri bao](https://github.com/wschwal1/dh-term-paper/blob/main/pictures/lqrcn2.png?raw=true) *Fig. 2: Website of a single front page of the newspaper Jian she ri bao (建設日報) dated July 22, 1946, in LQRCN. The text in the left field outlined in red is the transcribed text from the original (scan on the right).*"
   ]
  },
  {
   "cell_type": "markdown",
   "metadata": {},
   "source": [
    "lorem ipsum"
   ]
  },
  {
   "cell_type": "markdown",
   "metadata": {},
   "source": [
    "## Democracy?\n",
    "\n",
    "Lorem ipsum\n"
   ]
  },
  {
   "cell_type": "markdown",
   "metadata": {},
   "source": [
    "![Fig. 3: Frequency of all key words](https://github.com/wschwal1/dh-term-paper/blob/main/pictures%20/frequency-total.png?raw=true) *Fig. 3: Frequency of all key words*"
   ]
  },
  {
   "cell_type": "markdown",
   "metadata": {},
   "source": [
    "lorem ipsum"
   ]
  },
  {
   "cell_type": "markdown",
   "metadata": {},
   "source": [
    "![Fig. 4: Frequency of key words in the category Democracy](https://github.com/wschwal1/dh-term-paper/blob/main/pictures%20/frequency-democracy.png?raw=true) *Fig. 4: Frequency of key words in the category \"Democracy\"*"
   ]
  },
  {
   "cell_type": "markdown",
   "metadata": {},
   "source": [
    "lorem ipsum"
   ]
  },
  {
   "cell_type": "markdown",
   "metadata": {},
   "source": [
    "## War"
   ]
  },
  {
   "cell_type": "markdown",
   "metadata": {},
   "source": [
    "lorem ipsum"
   ]
  },
  {
   "cell_type": "markdown",
   "metadata": {},
   "source": [
    "![Fig. 5: Comparison of the terms民主 (democracy) and 戰 (war)](https://github.com/wschwal1/dh-term-paper/blob/main/pictures%20/frequency-minzhu-zhan.png?raw=true) *Fig. 5: Comparison of the terms 民主 (democracy) and 戰 (war) from March 1914 to February 1949*"
   ]
  },
  {
   "cell_type": "markdown",
   "metadata": {},
   "source": [
    "lorem ipsum"
   ]
  },
  {
   "cell_type": "markdown",
   "metadata": {},
   "source": [
    "![Fig. 6: Frequency of key words in the category “war”](https://github.com/wschwal1/dh-term-paper/blob/main/pictures%20/frequency-war.png?raw=true) *Fig. 6: Frequency of key words in the category “war”*"
   ]
  },
  {
   "cell_type": "markdown",
   "metadata": {},
   "source": [
    "lorem ipsum"
   ]
  },
  {
   "cell_type": "markdown",
   "metadata": {},
   "source": [
    "![Fig. 7: Frequency of the term 空軍 (air force)](https://github.com/wschwal1/dh-term-paper/blob/main/pictures%20/air-force.png?raw=true) *Fig. 7: Frequency of the term 空軍 (air force)*"
   ]
  },
  {
   "cell_type": "markdown",
   "metadata": {},
   "source": [
    "lorem ipsum"
   ]
  },
  {
   "cell_type": "markdown",
   "metadata": {},
   "source": [
    "## Conclusion"
   ]
  },
  {
   "cell_type": "markdown",
   "metadata": {},
   "source": [
    "lorem ipsum"
   ]
  },
  {
   "cell_type": "markdown",
   "metadata": {},
   "source": [
    "## Bibliography\n",
    "\n",
    "“Anti-Japanese Feeling in Canton: Poetic Incitements to Boycott.” The North-China Herald and Supreme Court & Consular Gazette. April 24, 1915. http://ezproxy.nypl.org/login?url= https://www-proquest-com.i.ezproxy.nypl.org/historical-newspapers/anti-japanese-feeling-canton/docview/1369929133/se-2?accountid=35635.\n",
    "\n",
    "Hsü, Immanuel C. Y. *The Rise of Modern China*, 3rd ed. New York: Oxford University Press, 1983.\n",
    "\n",
    "Mühlhahn, Klaus. *Geschichte des modernen China: Von der Qing-Dynastie bis zur Gegenwart*. Munich: C. H. Beck, 2021).\n",
    "\n",
    "Global Press Archive, *Late Qing and Republican Era Chinese Newspapers*, https://gpa.eastview.com/crl/lqrcn/\n",
    "\n",
    "Rossabi, Morris. *A History of China*. Malden: Wiley Blackwell, 2014.\n",
    "\n",
    "Spence, Jonathan D. *The Search for Modern China*. 3rd ed. New York: W.W. Norton & Company, 2013.\n",
    "\n",
    "“The Boycott and Japanese Trade.” The North-China Herald and Supreme Court & Consular Gazette. June 12, 1915. http://ezproxy.nypl.org/login?url=https://www-proquest-com.i. ezproxy.nypl.org/historical-newspapers/commerce-finance/docview/1369930240/se-2? accountid=35635.\n",
    "\n",
    "Van de Ven, Hans. *China at War: Triumph and Tragedy in the Emergence of the New China*. Cambridge: Harvard University Press, 2018.\n",
    "\n",
    "Zarrow, Peter. *After Empire: The Conceptual Transformation of the Chinese State, 1885-1924*. Stanford: Stanford University Press, 2012."
   ]
  }
 ],
 "metadata": {
  "kernelspec": {
   "display_name": "Python 3",
   "language": "python",
   "name": "python3"
  },
  "language_info": {
   "codemirror_mode": {
    "name": "ipython",
    "version": 3
   },
   "file_extension": ".py",
   "mimetype": "text/x-python",
   "name": "python",
   "nbconvert_exporter": "python",
   "pygments_lexer": "ipython3",
   "version": "3.12.2"
  }
 },
 "nbformat": 4,
 "nbformat_minor": 2
}
