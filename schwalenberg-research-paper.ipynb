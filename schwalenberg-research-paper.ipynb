{
 "cells": [
  {
   "cell_type": "markdown",
   "metadata": {},
   "source": [
    "# War on Their Minds: A Comparison of the Concepts of \"Democratization\" and \"War\" in Chinese Newspapers, 1914-1949"
   ]
  },
  {
   "cell_type": "markdown",
   "metadata": {},
   "source": [
    "## Introduction"
   ]
  },
  {
   "cell_type": "markdown",
   "metadata": {},
   "source": [
    "## Methodology"
   ]
  },
  {
   "cell_type": "markdown",
   "metadata": {},
   "source": [
    "## Democracy?\n",
    "\n",
    "Lorem ipsum\n"
   ]
  },
  {
   "cell_type": "markdown",
   "metadata": {},
   "source": [
    "![Fig. 1: Frequency of all key words](https://github.com/wschwal1/dh-term-paper/blob/main/pictures%20/frequency-total.png?raw=true) \"Fig. 1: Frequency of all key words\""
   ]
  },
  {
   "cell_type": "markdown",
   "metadata": {},
   "source": []
  },
  {
   "cell_type": "markdown",
   "metadata": {},
   "source": [
    "## War"
   ]
  },
  {
   "cell_type": "markdown",
   "metadata": {},
   "source": [
    "## Conclusion"
   ]
  },
  {
   "cell_type": "markdown",
   "metadata": {},
   "source": [
    "## Bibliography\n",
    "\n",
    "“Anti-Japanese Feeling in Canton: Poetic Incitements to Boycott.” The North-China Herald and Supreme Court & Consular Gazette. April 24, 1915. http://ezproxy.nypl.org/login?url= https://www-proquest-com.i.ezproxy.nypl.org/historical-newspapers/anti-japanese-feeling-canton/docview/1369929133/se-2?accountid=35635.\n",
    "\n",
    "Hsü, Immanuel C. Y. *The Rise of Modern China*, 3rd ed. New York: Oxford University Press, 1983.\n",
    "\n",
    "Mühlhahn, Klaus. *Geschichte des modernen China: Von der Qing-Dynastie bis zur Gegenwart*. Munich: C. H. Beck, 2021).\n",
    "\n",
    "Global Press Archive, *Late Qing and Republican Era Chinese Newspapers*, https://gpa.eastview.com/crl/lqrcn/\n",
    "\n",
    "Rossabi, Morris. *A History of China*. Malden: Wiley Blackwell, 2014.\n",
    "\n",
    "Spence, Jonathan D. *The Search for Modern China*. 3rd ed. New York: W.W. Norton & Company, 2013.\n",
    "\n",
    "“The Boycott and Japanese Trade.” The North-China Herald and Supreme Court & Consular Gazette. June 12, 1915. http://ezproxy.nypl.org/login?url=https://www-proquest-com.i. ezproxy.nypl.org/historical-newspapers/commerce-finance/docview/1369930240/se-2? accountid=35635.\n",
    "\n",
    "Van de Ven, Hans. *China at War: Triumph and Tragedy in the Emergence of the New China*. Cambridge: Harvard University Press, 2018.\n",
    "\n",
    "Zarrow, Peter. *After Empire: The Conceptual Transformation of the Chinese State, 1885-1924*. Stanford: Stanford University Press, 2012."
   ]
  }
 ],
 "metadata": {
  "kernelspec": {
   "display_name": "Python 3",
   "language": "python",
   "name": "python3"
  },
  "language_info": {
   "codemirror_mode": {
    "name": "ipython",
    "version": 3
   },
   "file_extension": ".py",
   "mimetype": "text/x-python",
   "name": "python",
   "nbconvert_exporter": "python",
   "pygments_lexer": "ipython3",
   "version": "3.12.2"
  }
 },
 "nbformat": 4,
 "nbformat_minor": 2
}
