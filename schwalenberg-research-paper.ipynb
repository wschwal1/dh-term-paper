{
 "cells": [
  {
   "cell_type": "markdown",
   "metadata": {},
   "source": [
    "# War on Their Minds: A Comparison of the Concepts \"Democratization\" and \"War\" in Chinese Newspapers, 1914-1949"
   ]
  },
  {
   "cell_type": "markdown",
   "metadata": {},
   "source": [
    "## Introduction"
   ]
  },
  {
   "cell_type": "markdown",
   "metadata": {},
   "source": [
    "The period from 1911 to 1949 was a moving time of great upheaval, transformation, and uncertainty for China. In 1911 the monarchy was overthrown and a form of government that was thousands of years old was abolished. In their place came a modern nation-state, the first (and for a few decades the only) republic in East Asia. This was also a time of ongoing conflict, both internal and external. Internally, there was not only strife within the new rulers but also conflicts with warlords who were pursuing their own political and economic interests. In addition, there was initially a simmering conflict between political ideologies that ultimately escalated into full-scale war. And eventually Japan attacked China, leading to the outbreak of the Second Sino-Japanese War.\n",
    "\n",
    "This article deals with the extent to which democratic concepts and the idea of democratization were reflected in Chinese newspapers. For this purpose, digital history methods are used to evaluate a large data set that could not be handled analogously. In the next section of this article, the methodology will be described in detail so that the reader can  get an idea of the possibilities of digital history methods and, moreover, to make this project as transparent as possible.\n",
    "\n",
    "As explained below, the front pages of individual newspaper editions from the cities of Beijing and Nanjing in the period 1914 to 1949 were evaluated for this project. The available data sets were examined for search terms related to “democracy” and “war” in order to understand how these concepts determined reporting in Chinese newspapers and thus reflected the discourse within the Chinese population. It quickly became apparent that “war” was the predominant theme while “democracy” played a subordinated role. The reasons for this are obvious. As will be explained in detail below, there was no democratization of China; therefore, it was not an issue for the general population. War, on the other hand, affected the population directly and over a long period of time. Accordingly, Chinese reporting is dominated by this topic."
   ]
  },
  {
   "cell_type": "markdown",
   "metadata": {},
   "source": [
    "## Methodology"
   ]
  },
  {
   "cell_type": "markdown",
   "metadata": {},
   "source": [
    "The database “Late Qing and Republican-Era Chinese Newspapers” (hereinafter LQRCN, https://gpa.eastview.com/crl/lqrcn/) serves as the basis for this project. LQRCN is a comprehensive collection of Chinese newspapers published in more than twenty cities during the critical period from the end of the Qing Empire in 1911 to the Communist Revolution in 1949. A total of 292 publications with 70,393 issues and a total of 463,954 pages are stored in the database. Notably, LQRCN is an Open Access collection."
   ]
  },
  {
   "cell_type": "markdown",
   "metadata": {},
   "source": [
    "![Fig. 1: The Late Qing and Republican-Era Chinese Newspapers Database](https://github.com/wschwal1/dh-term-paper/blob/main/pictures/lqrcn1.png?raw=true) *Fig. 1: The Late Qing and Republican-Era Chinese Newspapers Database*"
   ]
  },
  {
   "cell_type": "markdown",
   "metadata": {},
   "source": [
    "Every individual page of a newspaper stored in the database has its own URL and is available as a scan. In addition, the text of each individual page is transcribed (at least as far as the text in the original is readable, see red-bordered area in Figure 2). This enables computer-assisted reading or extraction. For this project, only a sample of the complete database was utilized. The URLs of the front pages of a total of 2,187 newspapers from the cities of Beijing 北京 and Nanjing 南京 were recorded in an Excel sheet for the period for August 3, 1914 to April 9, 1949 (see Figure 3). Each URL includes the date of the individual issue, e.g., https://gpa.eastview.com/crl/lqrcn/newspapers/mrwb19490314-01.1.1 (the eight numbers before the dash are the date). This makes it easy to link every URL to a date, which is important for later evaluations. It should be noted that LQRCN is not a complete historical archive, i.e., there are gaps in the archive because not all newspaper editions have been preserved and are lost. This circumstance means that some months and, in some cases, entire years are not available and therefore could not be evaluated, even within the limits of this sample."
   ]
  },
  {
   "cell_type": "markdown",
   "metadata": {},
   "source": [
    "![Fig. 2: Website of a single front page of the newspaper Jian she ri bao](https://github.com/wschwal1/dh-term-paper/blob/main/pictures/lqrcn2.png?raw=true) *Fig. 2: Website of a single front page of the newspaper Jian she ri bao (建設日報) dated July 22, 1946, in LQRCN. The text in the left field outlined in red is the transcribed text from the original (scan on the right).*"
   ]
  },
  {
   "cell_type": "markdown",
   "metadata": {},
   "source": [
    "![Fig. 3: Map](https://github.com/wschwal1/dh-term-paper/blob/main/pictures/map.png?raw=true) *Fig. 3: A map showing the locations of the different newspapers utilized in this project*"
   ]
  },
  {
   "cell_type": "markdown",
   "metadata": {},
   "source": [
    "The two cities of Beijing and Nanjing were chosen because they were important political centers in China. Beijing was the capital of the Qing Empire until the Xinhai Revolution 辛亥革命 in January 1912 and also one of the most important cultural centers of the Qing. With the proclamation of the Chinese Republic in 1912 and the declaration of Sun Yat-sen 孫中山 as the first provisional president, Nanjing was declared the new capital–at least for a short while. In 1927, under the aegis of Chiang Kai-shek 蔣介石, Nanjing was again declared the capital, which it remained until its occupation by Japanese troops in 1937, when the capital was moved to Chongqing 重庆 (Spence 2013, 263; 331).\n",
    "\n",
    "In the next step, the transcribed texts of the recorded websites were extracted using the web scraping tool ParseHub with a specially created template. The extracted texts were assigned to the respective websites and collected in a JSON file.\n",
    "\n",
    "The extracted texts could now be examined for the frequency of certain keywords from two different categories. In order to understand to what extent (or whether at all) China’s democratic restructuring was discussed in the press, the keywords in the first category (“democracy”) refer to democratic concepts:\n",
    "\n",
    "-\t民主 - democracy\n",
    "-\t民主主義 - democracy\n",
    "-\t民主化 - democratization\n",
    "-\t公民 - citizen\n",
    "-\t共和國 – republic\n",
    "-\t國家 – country, nation, state\n",
    "-\t憲法 - constitution\n",
    "-\t民權 - civil rights\n",
    "-\t主權 – sovereignty\n",
    "\n",
    "However, since China was not only in a state of political upheaval and nation building during the period in question but was also more or less constantly in a state of war (the Chinese Civil War from 1927-1949 and the Second Sino-Japanese War from 1937-1945), keywords in connection with “war” were searched for as well:\n",
    "\n",
    "-\t戰爭 - war\n",
    "-\t大戰 - great war\n",
    "-\t世界大戰 - World War\n",
    "-\t戰 - to fight / fight / war / battle\n",
    "-\t失敗 - to be defeated / to lose\n",
    "-\t投降 - to surrender\n",
    "-\t佔領 - to capture; to seize; to occupy by force\n",
    "-\t侵占 - to invade and occupy (territory)\n",
    "-\t海軍 - navy\n",
    "-\t陸軍 - army\n",
    "-\t空軍 - air force\n",
    "-\t日空軍 - Japanese Air Force\n",
    "-\t日軍 - Japanese Army\n",
    "\n",
    "The search was carried out using Python code and the results (frequency and when which term was printed in which edition) were recorded in an Excel sheet. This data was then evaluated accordingly, using Excel, where the charts in this paper were also created."
   ]
  },
  {
   "cell_type": "markdown",
   "metadata": {},
   "source": [
    "## Democracy?\n",
    "\n",
    "The analysis of the data obtained led to the following results. The first (and as we will see perhaps not entirely surprising) result is that the terms in the “war” category are significantly higher in frequency than those in the “democracy” category (see Figure 4). The term 戰 (war) was mentioned 4,534 times in the sampling, while the terms 民主 and 民主主義 (democracy) together were mentioned only 149 times.\n"
   ]
  },
  {
   "cell_type": "markdown",
   "metadata": {},
   "source": [
    "![Fig. 4: Frequency of all key words](https://github.com/wschwal1/dh-term-paper/blob/main/pictures%20/frequency-total.png?raw=true) *Fig. 4: Frequency of all key words*"
   ]
  },
  {
   "cell_type": "markdown",
   "metadata": {},
   "source": [
    "Figure 5 shows the frequency of the terms in the category “democracy.” It is noticeable that the terms 國家 (country, nation, state) and 民主 (democracy) were only mentioned 138 and 143 times, respectively, in all 2,187 front pages. However, the frequency is almost identical. This suggests that the two terms were understood in the same context of meaning and that the Chinese state was understood in the press as a construct that was closely linked to democracy. The third most frequently occurring term with 38 mentions is 憲法 (constitution), followed by 民權 (civil rights) with 22 mentions. Both concepts were frequently evoked by intellectuals, as they were understood as important foundations of the new Chinese republic. Their discussion in the press is therefore to be expected. Another, notable observation is that the concept of democratization (民主化) was not mentioned at all. As we will see, this might not be too surprising."
   ]
  },
  {
   "cell_type": "markdown",
   "metadata": {},
   "source": [
    "![Fig. 5: Frequency of key words in the category Democracy](https://github.com/wschwal1/dh-term-paper/blob/main/pictures%20/frequency-democracy.png?raw=true) *Fig. 5: Frequency of key words in the category \"Democracy\"*"
   ]
  },
  {
   "cell_type": "markdown",
   "metadata": {},
   "source": [
    "The relative rarity of democratic terms in the data set of over two thousand front pages considered is not entirely surprising. The debate about China’s political future as an empire or a modern nation state was led primarily by intellectuals, the imperial court, and politicians. Since the end of the nineteenth century, scholars such as Kang Youwei 康有為 (1858-1927), Liang Qichao 梁啟超 (1873-1929) and Yan Fu 嚴復 (1854-1921) have been concerned with the question of how the Chinese state could be modernized. They pursued and debated the fundamental question of whether only Western concepts should be used for modernization or whether China’s traditional systems of thought, especially Confucianism, would not represent a better basis for the desired transformation process, or maybe some combination of the two (Zarrow 2012, 18-20). The resulting debate about China’s future as a nation state and the guiding thought systems that should bring China into this future was conducted in quite heated written exchanges (in books and essays) between the intellectuals involved (see especially Zarrow’s After Empire which draws from the published texts of those intellectuals and traces the debates between them). The public did not participate in these debates. Moreover, due to their intellectual and academic, and certainly aloof, character, these debates were not very accessible to the general population–not entirely unlike the intellectual debates of our time, which also receive little attention outside of the intelligentsia. It is therefore not surprising that terms such as democracy or citizen (公民) appeared only seldomly in the coverage of newspapers.\n",
    "\n",
    "Furthermore, China’s political upheaval and nation-building should not be understood as a democratic and orderly process at the end of which the new China emerged. As a result of the Xinhai Revolution, the emperor resigned in February 1912 (the Xinhai Revolution is named after the year 辛亥 “Xinhai” of the Chinese lunar calendar, i.e., January 30, 1911, to February 17, 1912, the Year of the Metal Pig, or the 48th lunar year). The fall of the Qing Empire was like a silent implosion. It was a quick and relatively non-violent process that hardly does justice to its historical significance. With these events, not only was the Qing dynasty overthrown after almost 270 years of uninterrupted rule, but the entire imperial dynastic system, which had existed for over two thousand years, came to an end. Suddenly, China entered a new era marked by radical change and an unexpected opportunity for renewal. The country became the first republic in Asia and thus one of the first empires on the continent to reinvent itself in the form of a nation-state (Mühlhahn 2021, 248).\n",
    "\n",
    "On January 1, 1912, the Republic of China was proclaimed and the reformer Sun Yat-sen was elected interim president by a conference of provincial representatives in Nanjing, not by the Chinese people (Rossabi 2014, 331). China’s provisional constitution, which came into force at the same time, declared the country a republic based on the US model. In February 1912, Sun Yat-sen ceded the office of president to the former imperial administrator and army officer Yuan Shikai 袁世凱 (again without the participation of the people). The strongest political force at the time, the National People’s Party of China (Guomindang 國民黨), founded by Sun Yat-sen, tried in vain to assert its claims to the leadership of the state in a so-called “Second Revolution” with the help of military rulers who had remained loyal to them. The uprising was suppressed by Yuan, when his forces routed troops loyal to the Guomindang in summer 1913. Subsequently, Yuan Shikai had the Guomindang declared illegal, changed the constitution, and dissolved parliament (Spence 2013, 267). However, within a few years, Yuan had squandered his political credit. He had lost his support in the republican-minded military after he declared himself the new emperor of China, undermining the efforts to build a new modern nation-state by trying to re-establish a model of governance that could not be reinstated. He also became unpopular with the people when, in the spring of 1915, he accepted the Japanese government’s Twenty-One Demands 二十一條, which were intended to give Japan extensive territorial, economic, and political rights in China (Hsü 1983, 475-82). These demands were met with nationwide boycotts of Japanese goods (The North-China Herald and Supreme Court & Consular Gazette, April 24, 1915, 240), the destruction of Japanese street advertisements, or the coercion of Chinese employees of Japanese companies to quit, sometimes under the threat of violence (The North-China Herald and Supreme Court & Consular Gazette, June 12, 1915, 776).\n",
    "\n",
    "Yuan Shikai died on June 6, 1916, in Beijing. After his death, China disintegrated into grim power struggles. Different areas were ruled by various military leaders known as warlords, outside the reach of the central government. The power games of the warlords who fought for dominance in China prevented national unity. Under the leadership of Chiang Kai-shek, the reorganized Guomindang, together with the Communist Party of China (中國共產黨) under the leadership of Mao Zedong 毛澤東, began a campaign against the warlords in the summer of 1926, the so-called Northern Expedition. In 1928, Chiang Kai-shek was able to prevail in this conflict and to reunify China. In the same year, a new central government under the Nationalists, with Chiang at its head, was established in Nanjing (Hsü 1983, 523-31). \n",
    "\n",
    "As we have seen, the Chinese population never really took part in the formation of the modern Chinese nation-state. Strong men, power politics, and often times violence shaped this process. Democratic notions were relatively sparse, if not completely absent. What began with a relatively quiet revolution and the abdication of the Qing emperor, became quickly a violent power struggle. The Chinese people were in all of these events, so to speak, simply bystanders to the political spectacle and quest for power taking place before their eyes. It is therefore hardly surprising that democratic concepts received little mention in the Chinese press. Furthermore, there was no process of “democratization.” In China, the non-democratically legitimized rule of the Qing imperial house was dismantled, but democracy did not expand and develop further. Even though an ideological debate about democracy has been going on in China since the end of the nineteenth century, the protagonists have been scholars and policymakers. One can say that the idea of democracy has penetrated the Chinese subconscious, but one should not assume that this means an all-encompassing subconscious. Rather, it can be argued that the Chinese subconscious consisted of different levels and that there was no major intellectual debate with the concept of democracy at the level of the general population. There were simply no corresponding events and no process of democratization that the people could have related to, and therefore no public discourse."
   ]
  },
  {
   "cell_type": "markdown",
   "metadata": {},
   "source": [
    "## War"
   ]
  },
  {
   "cell_type": "markdown",
   "metadata": {},
   "source": [
    "During the period with which this article is concerned, China has been in constant unrest. Two major events were to shape the history of the young nation up to the Communist revolution in 1949: the Chinese Civil War from 1927 to 1949 and the Second Sino-Japanese War from 1937 to 1945. The two wars, which cost the lives of millions of Chinese people, should also dominate coverage in Chinese newspapers, as the data in Figure 4 suggests. \n",
    "\n",
    "The comparison of the terms 民主 (democracy) and 戰 (war) in Figure 6 illustrates this very well. In the period 1914 to 1949, 戰 (war) clearly dominates 民主 (democracy). On the one hand, this confirms the interpretation above that the idea of democracy was only little discussed among the Chinese population because there was a lack of experience of a democratic process and the involvement of the population in the formation of the Chinese state. However, the civil war and the war with Japan impacted the Chinese people in numerous ways and it is hardly surprising that this was reflected in the press accordingly.\n"
   ]
  },
  {
   "cell_type": "markdown",
   "metadata": {},
   "source": [
    "![Fig. 6: Comparison of the terms民主 (democracy) and 戰 (war)](https://github.com/wschwal1/dh-term-paper/blob/main/pictures%20/frequency-minzhu-zhan.png?raw=true) *Fig. 6: Comparison of the terms 民主 (democracy) and 戰 (war) from March 1914 to February 1949*"
   ]
  },
  {
   "cell_type": "markdown",
   "metadata": {},
   "source": [
    "The frequency of the above-mentioned search terms in the category “war” is shown in Figure 7. The fact that the term 戰 “war” is mentioned most often on Chinese front pages should no longer be surprising at this point. For most of the period examined here, China was at war, both with itself and with Japan. At the same time, the Second World War was raging."
   ]
  },
  {
   "cell_type": "markdown",
   "metadata": {},
   "source": [
    "![Fig. 7: Frequency of key words in the category “war”](https://github.com/wschwal1/dh-term-paper/blob/main/pictures%20/frequency-war.png?raw=true) *Fig. 7: Frequency of key words in the category “war”*"
   ]
  },
  {
   "cell_type": "markdown",
   "metadata": {},
   "source": [
    "Since 戰 is obviously an outlier, it is worth taking a look at the other terms. If 戰 is taken out of the picture, one will notice that 日軍 (Japanese Army) dominates with 768 mentions. Given the total number of newspapers selected (2,187), this seems relatively small, but it should be noted that this is only a sample. The frequent use of the term 日軍 certainly leads to the conclusion that the war with Japan was (unsurprisingly) a hot topic that was discussed accordingly in the Chinese press. On the other hand, it is noticeable that the terms 大戰 and 世界大戰 (both refer to the World War) only appear a total of 100 times. This is not surprising either. Even if the Second Sino-Japanese War from our current perspective was also part of the Second World War (which is why some historians claim that WW II began in 1937 and not 1939), for the Chinese the latter was a war in which they were not involved. Their fight was against Japan, which had invaded China and occupied Chinese territory. The Sino-Japanese War was thus the dominant topic in the Chinese press. At this point it seems necessary to note that the term 國共內戰 (Chinese Civil War) was only used later (after 1949) and was therefore not utilized as a search term for this paper.\n",
    "\n",
    "Both conflicts, the Chinese Civil War and the Second Sino-Japanese War, were certainly on the minds of the Chinese. The Chinese Civil War was fought from 1927 to 1949 over political leadership in the country. The protagonists in this conflict were the Guomindang under Chiang Kai-shek, who led the Republic of China as generalissimo, temporary president, and prime minister, and the Chinese Communist Party under Mao Zedong. The two sides had, as mentioned above, previously cooperated in the so-called First United Front (第一次國共合作, 1923 to 1927) on the Northern Expedition (北伐)to subdue the warlords, but their alliance fell apart due to their own political ambitions and their ideological differences. The Chinese Civil War was the product of major differences of opinion over deeper questions that arose after the 1911 Revolution and had enormous potential for conflict. It was unclear who would take power and on what basis. It was also unclear what China should stand for. Furthermore, the relationship between central and local authorities was more than diffuse. The question of which Chinese traditions should be preserved and what China’s place in the modern world should be also remained unanswered. There was no mechanism to resolve these fundamental questions and no ability to compromise, with the result that the young Chinese nation sank into war (Van de Ven, 2018, 4). We can also see how these unresolved questions could affect any democratic processes in China and how this relates to the lack of democratization in the new Chinese nation state.\n",
    "\n",
    "The Second Sino-Japanese War, called the “War of Resistance against Japan” 抗日戰爭 in both the People’s Republic of China (on mainland China) and the Republic of China (on Taiwan), was fought between July 7, 1937 and September 9, 1945. During this war, Japan succeeded in bringing large parts of Chinese territory in the east and north under its control. The Japanese occupiers established separate, independent local governments in these areas, of which Manchuria is certainly the best known. Manchuria and the remaining occupied territories were governed indirectly by “military advisors” from Japan in collaboration with local Chinese officials (Mühlhahn, 2021, 354). This fact is reflected in the newspapers. The term 佔領 (to capture; to seize; to occupy by force) is the third most frequently occurring term with 210 mentions (see Figure 4).\n",
    "\n",
    "An important feature of the Sino-Japanese War was aerial bombing. Air combat was already part of the conflict until 1937, but became more important from 1937 onwards, as can also be seen in Figure 8. The frequency of the term 空軍 (air force) noticeably increased from September 1937 (Please note, that the data for August 1937 is missing). From August 1937 onwards, the Japanese were able to make major gains in territory, including the city of Shanghai 上海 but also in northern China. The Japanese strategy also consisted of air strikes, not only to destroy military targets but also to terrorize the Chinese population. After the Japanese Naval Air Force gained air supremacy, government buildings, bridges, barracks and train stations in Shanghai, Nanjing 南京, Tianjin 天津, Canton 廣州, Hangzhou 杭州, and Suzhou 蘇州 were bombed. The Japanese air raids also resulted in many civilian casualties (Van de Ven, 2018, 82-84). Accordingly, the term air force was mentioned often in Chinese newspapers.\n"
   ]
  },
  {
   "cell_type": "markdown",
   "metadata": {},
   "source": [
    "![Fig. 8: Frequency of the term 空軍 (air force)](https://github.com/wschwal1/dh-term-paper/blob/main/pictures%20/air-force.png?raw=true) *Fig. 8: Frequency of the term 空軍 (air force)*"
   ]
  },
  {
   "cell_type": "markdown",
   "metadata": {},
   "source": [
    "Overall, based on the available data, it can be said that war has dominated public discourse and thus newspaper reporting. This is not surprising given the experiences of the Chinese population described above. Not only did the Civil War and the Second Sino-Japanese War affect the population, but also the conflicts with the warlords in the period up to 1928. The reporting reflected the ongoing state of conflict–war was the dominant theme in the minds of the Chinese."
   ]
  },
  {
   "cell_type": "markdown",
   "metadata": {},
   "source": [
    "## Conclusion"
   ]
  },
  {
   "cell_type": "markdown",
   "metadata": {},
   "source": [
    "As we have seen, even in the comparatively small sample of this project, democratization and related concepts were not topics discussed in the Chinese press. The reasons for this are obvious: First, there was no process of democratization in China, even though the republic was the first “democratic” nation state in East Asia. Rather–as was the case during the time of the monarchy–a top-down approach prevailed, in which a handful of powerful and influential men determined the fate of the country without taking the population into account. The lack of democratic processes inevitably meant that “democracy” was rarely discussed outside intellectual circles. This explains the absence of relevant discussions in newspapers.\n",
    "\n",
    "However, “war” clearly predominated in the comparison made here. China was in a state of war for most of the period examined. The warlords who plagued the country with their violent power games, the Northern Expedition that ultimately wiped them out, the war with Japan and ultimately the civil war between the communists and the nationalists–all of this determined the everyday life of the Chinese population. The fact that keywords related to “war” appeared much more often in Chinese newspapers than democratic concepts is against this background understandable.\n",
    "\n",
    "However, this project revealed even more, namely the benefits of digital history methods. Trying to search even a small sample of 2,187 front pages for keywords without automated methods is utopian, unless one has an army of helpers at one’s disposal. The digital methods used in this project have impressively demonstrated how relatively easily relevant information can be extracted from an enormous amount of data.\n",
    "\n",
    "Therefore, the work carried out here should only be seen as the beginning of a larger project. The LQRCN database includes 292 publications across China with 70,393 issues and a total of 463,954 pages. In the next step, all available pages should be scraped for the keywords used above. To do this, however, the methods for web scraping must be optimized in order to increase efficiency. This also means finding better access to the newspaper text embedded in the rather complex website code. Second, it seems useful to look for correlations between search terms in order to gain a deeper understanding of the reporting. Third, an examination of all 292 publications available would make it possible to look for local differences. For example, was the reporting in Beijing different than in Shanghai or a small city like Changzhou? It is possible that new and important insights can be gained about local differences. Third, capturing the newspaper texts of the entire data base in an accessible format also makes it possible to expand the search terms. It would also be possible to search for other categories to find trends that were relevant to the Chinese readers, thereby expanding our understanding of what moved and concerned the Chinese population. The possibilities that digital history methods open up are enormous and this small project is just a start."
   ]
  },
  {
   "cell_type": "markdown",
   "metadata": {},
   "source": [
    "## Bibliography\n",
    "\n",
    "“Anti-Japanese Feeling in Canton: Poetic Incitements to Boycott.” The North-China Herald and Supreme Court & Consular Gazette. April 24, 1915. http://ezproxy.nypl.org/login?url= https://www-proquest-com.i.ezproxy.nypl.org/historical-newspapers/anti-japanese-feeling-canton/docview/1369929133/se-2?accountid=35635.\n",
    "\n",
    "Hsü, Immanuel C. Y. *The Rise of Modern China*, 3rd ed. New York: Oxford University Press, 1983.\n",
    "\n",
    "Mühlhahn, Klaus. *Geschichte des modernen China: Von der Qing-Dynastie bis zur Gegenwart*. Munich: C. H. Beck, 2021).\n",
    "\n",
    "Global Press Archive, *Late Qing and Republican Era Chinese Newspapers*, https://gpa.eastview.com/crl/lqrcn/\n",
    "\n",
    "Rossabi, Morris. *A History of China*. Malden: Wiley Blackwell, 2014.\n",
    "\n",
    "Spence, Jonathan D. *The Search for Modern China*. 3rd ed. New York: W.W. Norton & Company, 2013.\n",
    "\n",
    "“The Boycott and Japanese Trade.” The North-China Herald and Supreme Court & Consular Gazette. June 12, 1915. http://ezproxy.nypl.org/login?url=https://www-proquest-com.i. ezproxy.nypl.org/historical-newspapers/commerce-finance/docview/1369930240/se-2? accountid=35635.\n",
    "\n",
    "Van de Ven, Hans. *China at War: Triumph and Tragedy in the Emergence of the New China*. Cambridge: Harvard University Press, 2018.\n",
    "\n",
    "Zarrow, Peter. *After Empire: The Conceptual Transformation of the Chinese State, 1885-1924*. Stanford: Stanford University Press, 2012."
   ]
  }
 ],
 "metadata": {
  "kernelspec": {
   "display_name": "Python 3",
   "language": "python",
   "name": "python3"
  },
  "language_info": {
   "codemirror_mode": {
    "name": "ipython",
    "version": 3
   },
   "file_extension": ".py",
   "mimetype": "text/x-python",
   "name": "python",
   "nbconvert_exporter": "python",
   "pygments_lexer": "ipython3",
   "version": "3.12.2"
  }
 },
 "nbformat": 4,
 "nbformat_minor": 2
}
